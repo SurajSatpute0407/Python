{
 "cells": [
  {
   "cell_type": "markdown",
   "metadata": {},
   "source": [
    "Based on database ask user to enter the values and store the same in the variable with validation"
   ]
  },
  {
   "cell_type": "code",
   "execution_count": null,
   "metadata": {},
   "outputs": [
    {
     "name": "stdout",
     "output_type": "stream",
     "text": [
      "Customer Details are:\n",
      "\n"
     ]
    },
    {
     "ename": "NameError",
     "evalue": "name 'validate' is not defined",
     "output_type": "error",
     "traceback": [
      "\u001b[1;31m---------------------------------------------------------------------------\u001b[0m",
      "\u001b[1;31mNameError\u001b[0m                                 Traceback (most recent call last)",
      "Cell \u001b[1;32mIn[1], line 168\u001b[0m\n\u001b[0;32m    164\u001b[0m                     \u001b[38;5;28mprint\u001b[39m(sys\u001b[38;5;241m.\u001b[39mexc_info()[\u001b[38;5;241m1\u001b[39m])\n\u001b[0;32m    167\u001b[0m \u001b[38;5;28mprint\u001b[39m(\u001b[38;5;124m\"\u001b[39m\u001b[38;5;124mCustomer Details are:\u001b[39m\u001b[38;5;130;01m\\n\u001b[39;00m\u001b[38;5;124m\"\u001b[39m)\n\u001b[1;32m--> 168\u001b[0m firstname\u001b[38;5;241m=\u001b[39m validate(\u001b[38;5;124m'\u001b[39m\u001b[38;5;124mEnter your firstname:\u001b[39m\u001b[38;5;124m'\u001b[39m,\u001b[38;5;124m'\u001b[39m\u001b[38;5;124mname\u001b[39m\u001b[38;5;124m'\u001b[39m)\n\u001b[0;32m    169\u001b[0m \u001b[38;5;66;03m# print('First name: ',firstname)\u001b[39;00m\n\u001b[0;32m    170\u001b[0m middlename\u001b[38;5;241m=\u001b[39m validate(\u001b[38;5;124m'\u001b[39m\u001b[38;5;124mEnter your middlename (Optional):\u001b[39m\u001b[38;5;124m'\u001b[39m, \u001b[38;5;124m'\u001b[39m\u001b[38;5;124mname\u001b[39m\u001b[38;5;124m'\u001b[39m, optional\u001b[38;5;241m=\u001b[39m\u001b[38;5;28;01mTrue\u001b[39;00m)\n",
      "\u001b[1;31mNameError\u001b[0m: name 'validate' is not defined"
     ]
    }
   ],
   "source": [
    "from datetime import datetime, date, time\n",
    "import re\n",
    "import logging\n",
    "import sys\n",
    "\n",
    "logging.basicConfig(filename='validation.log', level=logging.DEBUG, format='%(asctime)s - %(levelname)s --> %(message)s', datefmt='%Y-%m-%d %H:%M:%S') \n",
    "\n",
    "def validate(takeinput, check, optional=False):\n",
    "    error = ''\n",
    "    while True:\n",
    "\n",
    "        value=input(error + takeinput)\n",
    "        if optional and value=='':\n",
    "            return value\n",
    "\n",
    "\n",
    "        elif check=='name':\n",
    "            try:\n",
    "                name_function = lambda x: x.isalpha() and len(x) >= 2 and len(x) <= 20\n",
    "                if name_function(value):\n",
    "                    a = value.capitalize()\n",
    "                    logging.info(f\"Valid input for name: {a}\")  \n",
    "                    return a\n",
    "                else:\n",
    "                    error = 'Name should contain letters only and characters are between 2 and 20. '\n",
    "                    logging.error(f\"Validation failed for name: {value}. Reason: {error}\")\n",
    "                    raise Exception(error)      \n",
    "            except:\n",
    "                print(sys.exc_info()[1])\n",
    "\n",
    "\n",
    "\n",
    "        elif check=='phoneno':\n",
    "            try:\n",
    "                mobno_function = lambda x: x.isdigit() and len(x)==10\n",
    "                if mobno_function(value):\n",
    "                    logging.info(f\"Valid input for Mobile No: {value}\")\n",
    "                    return int(value)\n",
    "                else:\n",
    "                    error = 'Mobile No should contain digits only and length should be 10. '\n",
    "                    logging.error(f\"Validation failed for Mobile no: {value}. Reason: {error}\")\n",
    "                    raise Exception(error)      \n",
    "            except:\n",
    "                print(sys.exc_info()[1])\n",
    "\n",
    "                \n",
    "\n",
    "        elif check == 'gender':\n",
    "            try:\n",
    "                gender_function = lambda x: x.lower() in [\"male\", \"female\", \"other\", \"m\", \"f\", \"o\"]\n",
    "                if gender_function(value):\n",
    "                    if value.lower() == \"m\" or value.lower() == \"male\":\n",
    "                        logging.info(f\"Valid gender: Male\")\n",
    "                        return \"Male\"\n",
    "                    elif value.lower() == \"f\" or value.lower() == \"female\":\n",
    "                        logging.info(f\"Valid gender: Female\")\n",
    "                        return \"Female\"\n",
    "                    elif value.lower() == \"o\" or value.lower() == \"other\":\n",
    "                        logging .info(f\"Valid gender: Other\")\n",
    "                        return \"Other\"\n",
    "\n",
    "                else:\n",
    "                    error = \"\"\"Gender should be \"male\", \"female\", \"other\". \"\"\"\n",
    "                    logging.error(f\"Validation failed for Gender: {value}. Reason: {error}\")\n",
    "                    raise Exception(error)      \n",
    "            except:\n",
    "                print(sys.exc_info()[1])\n",
    "\n",
    "\n",
    "\n",
    "        elif check == \"email\":\n",
    "            try:\n",
    "                email_function = lambda x: re.match(r\"^[A-z0-9._%+-]+@[A-z0-9.-]+\\.[A-z]{2,3}$\", x)\n",
    "                if email_function(value):\n",
    "                    logging.info(f\"Valid input for Email: {value}\")\n",
    "                    return value\n",
    "                else:\n",
    "                    error = \"Enter a valid email address. \"\n",
    "                    logging.critical(f\"Validation failed for Email: {value}. Reason: {error}\")\n",
    "                    raise Exception(error)      \n",
    "            except:\n",
    "                print(sys.exc_info()[1])\n",
    "                    \n",
    "        \n",
    "        elif check == \"pancard\":\n",
    "            try:\n",
    "                pancard_function = lambda x: re.match(r\"^[A-Z]{5}[0-9]{4}[A-Z]{1}$\", x) and len(x)==10\n",
    "                if pancard_function(value):\n",
    "                    logging.info(f\"Valid input for Pancard: {value}\")\n",
    "                    return value\n",
    "                else:\n",
    "                    error = \"PAN card should contain only alphanumeric characters and length should be 11. \"\n",
    "                    logging.error(f\"Validation failed for Pancard: {value}. Reason: {error}\")\n",
    "                    raise Exception(error)      \n",
    "            except:\n",
    "                print(sys.exc_info()[1])\n",
    "\n",
    "\n",
    "        elif check == 'dob':\n",
    "            try:\n",
    "                current_date = datetime.now()\n",
    "                date=datetime.strptime(value, '%Y-%m-%d')\n",
    "                if date >= current_date:\n",
    "                    error = 'Date of birth cannot be in the future. '\n",
    "                    logging.debug(f\"Validation failed for Date of Birth: {date}. Reason: {error}\")\n",
    "                    raise Exception(error)\n",
    "                else:\n",
    "                    dobdate = date.strftime('%Y-%b-%d')\n",
    "                    logging.info(f\"Valid input for Date of Birth: {dobdate}\")\n",
    "                    return dobdate \n",
    "            except ValueError:\n",
    "                raise ValueError(\"Date format should be valid (YYYY-MM-DD).\")  \n",
    "            except:\n",
    "                print(sys.exc_info()[1])\n",
    "\n",
    "\n",
    "\n",
    "        elif check == \"address\":\n",
    "            try:\n",
    "                address_function = lambda x: re.match(r\"^[A-z0-9_\\s%+-]+, [A-z0-9_\\s%+-]+, [\\w\\s.-]+, [\\w\\s.-]+- \\d{6}$\", x)\n",
    "                if address_function(value):\n",
    "                    logging.info(f\"Valid input for Address: {value}\")\n",
    "                    return value.title()\n",
    "                else:\n",
    "                    error = \"Please follow the format: Flat No 123, XYZ Tower, Main Street, Mumbai - 123456.\\n \"\n",
    "                    logging.warning(f\"Validation failed for Address: {value}. Reason: {error}\")\n",
    "                    raise Exception(error)      \n",
    "            except:\n",
    "                print(sys.exc_info()[1])\n",
    "\n",
    "\n",
    "\n",
    "        elif check == \"password\":\n",
    "            try:\n",
    "                password_function = lambda x: re.match(r\"^(?=.*[A-Z])(?=.*[a-z])(?=.*\\d)(?=.*[@$!%*?&])[A-Za-z\\d@$!%*?&]{8,}$\", x) and len(x)>=8\n",
    "                if password_function(value):\n",
    "                    con_password = input(\"Confirm your password: \")\n",
    "                    try:\n",
    "                        if value == con_password:\n",
    "                            logging.info(f\"Valid input for Password: {value}\")\n",
    "                            return value\n",
    "                        else:\n",
    "                            error = \"Passwords do not match. \"\n",
    "                            logging.critical(f\"Validation failed for Password: {value}. Reason: {error}\")\n",
    "                            raise Exception(error)\n",
    "                    except:\n",
    "                        print(sys.exc_info()[1])   \n",
    "                else:\n",
    "                        error = \"Password must be at least 8 characters long and include at least one uppercase letter, one lowercase letter, one number, and one special character (e.g., @, #, !). \"\n",
    "                        logging.error(f\"Validation failed for Password: {value}. Reason: {error}\")\n",
    "                        raise Exception(error)      \n",
    "            except:\n",
    "                print(sys.exc_info()[1])\n",
    "\n",
    "  \n",
    "print(\"Customer Details are:\\n\")\n",
    "firstname= validate('Enter your firstname:','name')\n",
    "# print('First name: ',firstname)\n",
    "middlename= validate('Enter your middlename (Optional):', 'name', optional=True)\n",
    "# print('Middle name: ',middlename)\n",
    "lastname= validate('Enter your lastname:','name')\n",
    "# print('Last name: ',lastname)\n",
    "mobno= validate('Enter your Mobile no:','phoneno')\n",
    "# print('Mobile No: ',mobno)\n",
    "gender= validate('Enter your Gender:','gender')\n",
    "# print('Gender: ',gender)\n",
    "email= validate('Enter your email:','email')\n",
    "# print('Email: ',email)\n",
    "pancard= validate('Enter your Pancard:','pancard')\n",
    "# print('Pancard No: ',pancard)\n",
    "dob= validate('Enter your DOB:','dob')\n",
    "# print('Date of Birth (DOB): ',dob)\n",
    "address= validate('Enter your address:','address')\n",
    "# print('Address: ',address)\n",
    "password= validate('Enter your password:','password')\n",
    "# print('Password: ',password)\n",
    "\n",
    "dob1=datetime.strptime(dob, '%Y-%b-%d')\n",
    "age=dob1\n",
    "age = datetime.now().year - dob1.year\n",
    "if datetime.now().month < dob1.month or (datetime.now().month == dob1.month and datetime.now().day < dob1.day):\n",
    "    age -= 1\n",
    "# print('Age: ',age)\n",
    "\n",
    "fullname = f'{firstname} {middlename} {lastname}'\n",
    "print(\"\\nCustomer Registered sucessfully!:\")\n"
   ]
  },
  {
   "cell_type": "code",
   "execution_count": 16,
   "metadata": {},
   "outputs": [
    {
     "name": "stdout",
     "output_type": "stream",
     "text": [
      "\n",
      "Customer Details:\n",
      "\n",
      "name : Suraj  Satpute\n",
      "Mobile No : 9503392651\n",
      "Gender : Male\n",
      "Email: : suraj@satpute.com\n",
      "Pancard : MPPPS0793N\n",
      "DOB : 2001-Jul-04\n",
      "Age : 23\n",
      "Address : 3 Banglow, Kuran Road, Sukewadi, Sangamner - 422605\n",
      "Password : Suraj@123\n"
     ]
    }
   ],
   "source": [
    "print(\"\\nCustomer Details:\\n\")\n",
    "\n",
    "dict1={'name': fullname,\n",
    "       'Mobile No':mobno,\n",
    "       'Gender':gender,\n",
    "       'Email:':email,\n",
    "       'Pancard':pancard,\n",
    "       'DOB':dob,\n",
    "       'Age':age,\n",
    "       'Address':address,\n",
    "       'Password':password\n",
    "       }\n",
    "\n",
    "for i in dict1:\n",
    "    print(f'{i} : {dict1[i]}')"
   ]
  },
  {
   "cell_type": "code",
   "execution_count": 3,
   "metadata": {},
   "outputs": [],
   "source": [
    "dict1 = {'name' : 'Suraj  Satpute',\n",
    "'Mobile No' : 9503392651,\n",
    "'Gender' : 'Male',\n",
    "'email' : 'suraj@satpute.com',\n",
    "'Pancard' : 'MPPPS0793N',\n",
    "'DOB' : '2001-Jul-04',\n",
    "'Age' : 23,\n",
    "'Address' : '3 Banglow, Kuran Road, Sukewadi, Sangamner - 422605',\n",
    "'Password' : 'Suraj@123'}"
   ]
  },
  {
   "cell_type": "code",
   "execution_count": 4,
   "metadata": {},
   "outputs": [],
   "source": [
    "from user import *"
   ]
  },
  {
   "cell_type": "code",
   "execution_count": 5,
   "metadata": {},
   "outputs": [],
   "source": [
    "a = User(**dict1)"
   ]
  },
  {
   "cell_type": "code",
   "execution_count": 7,
   "metadata": {},
   "outputs": [
    {
     "name": "stdout",
     "output_type": "stream",
     "text": [
      "successfully loggedin\n"
     ]
    }
   ],
   "source": [
    "a.login()"
   ]
  },
  {
   "cell_type": "code",
   "execution_count": 8,
   "metadata": {},
   "outputs": [
    {
     "name": "stdout",
     "output_type": "stream",
     "text": [
      "ticket confirmed from Pune to Mumbai  \n"
     ]
    }
   ],
   "source": [
    "a.bookTicket()"
   ]
  },
  {
   "cell_type": "code",
   "execution_count": 10,
   "metadata": {},
   "outputs": [
    {
     "data": {
      "text/plain": [
       "9503392651"
      ]
     },
     "execution_count": 10,
     "metadata": {},
     "output_type": "execute_result"
    }
   ],
   "source": [
    "a.id"
   ]
  },
  {
   "cell_type": "code",
   "execution_count": 11,
   "metadata": {},
   "outputs": [
    {
     "ename": "AttributeError",
     "evalue": "'User' object has no attribute '__passw'",
     "output_type": "error",
     "traceback": [
      "\u001b[1;31m---------------------------------------------------------------------------\u001b[0m",
      "\u001b[1;31mAttributeError\u001b[0m                            Traceback (most recent call last)",
      "Cell \u001b[1;32mIn[11], line 1\u001b[0m\n\u001b[1;32m----> 1\u001b[0m a\u001b[38;5;241m.\u001b[39m__passw\n",
      "\u001b[1;31mAttributeError\u001b[0m: 'User' object has no attribute '__passw'"
     ]
    }
   ],
   "source": [
    "a.__passw"
   ]
  },
  {
   "cell_type": "code",
   "execution_count": null,
   "metadata": {},
   "outputs": [],
   "source": []
  }
 ],
 "metadata": {
  "kernelspec": {
   "display_name": "base",
   "language": "python",
   "name": "python3"
  },
  "language_info": {
   "codemirror_mode": {
    "name": "ipython",
    "version": 3
   },
   "file_extension": ".py",
   "mimetype": "text/x-python",
   "name": "python",
   "nbconvert_exporter": "python",
   "pygments_lexer": "ipython3",
   "version": "3.12.7"
  }
 },
 "nbformat": 4,
 "nbformat_minor": 4
}
