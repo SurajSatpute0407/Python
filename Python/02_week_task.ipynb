{
 "cells": [
  {
   "cell_type": "code",
   "execution_count": 8,
   "metadata": {},
   "outputs": [
    {
     "name": "stdout",
     "output_type": "stream",
     "text": [
      "2024-05-04 because of Saturday task not assigned.\n",
      "2024-05-05 because of Sunday task not assigned.\n",
      "2024-05-01, Wednesday: a\n",
      "2024-05-02, Thursday: b\n",
      "2024-05-03, Friday: c\n",
      "2024-05-06, Monday: d\n",
      "2024-05-07, Tuesday: e\n",
      "2024-05-08, Wednesday: f\n",
      "2024-05-09, Thursday: g\n",
      "2024-05-10, Friday: h\n"
     ]
    }
   ],
   "source": [
    "from datetime import datetime, date, time, timedelta\n",
    "\n",
    "date1 = input(\"Enter start date in (YYYY-MM-DD) Format:\")\n",
    "date2 = input(\"Enter end date in (YYYY-MM-DD) Format:\")\n",
    "\n",
    "all_days = []\n",
    "all_task = []\n",
    "\n",
    "try:\n",
    "    start_date = datetime.strptime(date1, \"%Y-%m-%d\")\n",
    "    end_date = datetime.strptime(date2, \"%Y-%m-%d\")\n",
    "    if start_date > end_date:\n",
    "        print(\"Start Date should be less than End date.\\n\")\n",
    "    else:\n",
    "        days_diff = (end_date - start_date).days\n",
    "        for i in range(days_diff + 1):\n",
    "            current_date = start_date + timedelta(days=i)\n",
    "            check_day = current_date.strftime(\"%A\")\n",
    "            if check_day not in [\"Saturday\", \"Sunday\"]:\n",
    "\n",
    "                all_days.append(current_date.strftime(\"%Y-%m-%d, %A\"))\n",
    "                task = input(f\"Enter task {current_date.strftime('%A, %d-%m-%Y')}\")\n",
    "                all_task.append(task)\n",
    "            else:\n",
    "                print(\n",
    "                    f\"{current_date.strftime('%Y-%m-%d')} because of {current_date.strftime('%A')} task not assigned.\"\n",
    "                )\n",
    "\n",
    "        dict1 = dict(zip(all_days, all_task))\n",
    "\n",
    "except ValueError:\n",
    "    print(\"Date format is not correct\")\n",
    "\n",
    "\n",
    "for key, value in dict1.items():\n",
    "    print(f'{key}: {value}')\n"
   ]
  }
 ],
 "metadata": {
  "kernelspec": {
   "display_name": "base",
   "language": "python",
   "name": "python3"
  },
  "language_info": {
   "codemirror_mode": {
    "name": "ipython",
    "version": 3
   },
   "file_extension": ".py",
   "mimetype": "text/x-python",
   "name": "python",
   "nbconvert_exporter": "python",
   "pygments_lexer": "ipython3",
   "version": "3.12.7"
  }
 },
 "nbformat": 4,
 "nbformat_minor": 2
}
