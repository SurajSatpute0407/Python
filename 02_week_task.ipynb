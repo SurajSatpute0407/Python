{
 "cells": [
  {
   "cell_type": "markdown",
   "metadata": {},
   "source": [
    "User will enter the start date and end date. Ask user to enter the task to be done on weekdays. If it is weekend then no task should be allotted. "
   ]
  },
  {
   "cell_type": "code",
   "execution_count": 16,
   "metadata": {},
   "outputs": [
    {
     "name": "stdout",
     "output_type": "stream",
     "text": [
      "Start Date should be less than End date.\n"
     ]
    }
   ],
   "source": [
    "from datetime import datetime, date, time, timedelta\n",
    "\n",
    "date1 = input('Enter start date in (YYYY-MM-DD) Format:')\n",
    "date2 = input('Enter end date in (YYYY-MM-DD) Format:')\n",
    "\n",
    "all_days = []\n",
    "all_task = []\n",
    "\n",
    "try:\n",
    "    start_date = datetime.strptime(date1, '%Y-%m-%d')\n",
    "    end_date = datetime.strptime(date2, '%Y-%m-%d')\n",
    "    if start_date>end_date:\n",
    "        print('Start Date should be less than End date.')\n",
    "    else:\n",
    "        days_diff = (end_date-start_date).days\n",
    "        for i in range(days_diff + 1):\n",
    "            current_date = start_date + timedelta(days=i)\n",
    "            check_day = current_date.strftime('%A')\n",
    "            if check_day not in ['Saturday', 'Sunday']:\n",
    "        \n",
    "                all_days.append(current_date.strftime('%Y-%m-%d, %A'))\n",
    "                task = input(f'Enter task {current_date.strftime('%A, %d-%m-%Y')}')\n",
    "                all_task.append(task)\n",
    "            else:\n",
    "                print(f'{current_date.strftime('%Y-%m-%d')} because of {current_date.strftime('%A')} task not assigned.')\n",
    "\n",
    "        print(dict(zip(all_days, all_task)))\n",
    "\n",
    "except ValueError:\n",
    "    print('Date format is not correct')\n",
    "    \n"
   ]
  },
  {
   "cell_type": "code",
   "execution_count": null,
   "metadata": {},
   "outputs": [],
   "source": []
  }
 ],
 "metadata": {
  "kernelspec": {
   "display_name": "base",
   "language": "python",
   "name": "python3"
  },
  "language_info": {
   "codemirror_mode": {
    "name": "ipython",
    "version": 3
   },
   "file_extension": ".py",
   "mimetype": "text/x-python",
   "name": "python",
   "nbconvert_exporter": "python",
   "pygments_lexer": "ipython3",
   "version": "3.12.7"
  }
 },
 "nbformat": 4,
 "nbformat_minor": 2
}
