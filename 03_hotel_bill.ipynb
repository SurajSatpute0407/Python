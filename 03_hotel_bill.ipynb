{
 "cells": [
  {
   "cell_type": "markdown",
   "metadata": {},
   "source": [
    "Generate the bill with proper format to create the bill file. User may enter more than 1 element\n",
    "![Getting Started](https://files.oaiusercontent.com/file-2gUqEYysEVEsnAHSi3WwmK?se=2025-01-12T07%3A20%3A10Z&sp=r&sv=2024-08-04&sr=b&rscc=max-age%3D299%2C%20immutable%2C%20private&rscd=attachment%3B%20filename%3Dimage.png&sig=iCi0S6ylI/gjBb8bN9u4HhHvyPoaxpS%2BazIC8SVsVrQ%3D)"
   ]
  },
  {
   "cell_type": "code",
   "execution_count": 2,
   "metadata": {},
   "outputs": [
    {
     "name": "stdout",
     "output_type": "stream",
     "text": [
      "===================================\n",
      "           Hotel Nature            \n",
      "===================================\n",
      "Time: 2025-01-12 20:23:21 Sun\n",
      "-----------------------------------\n",
      "    Menu    Quantity    Price    \n",
      "-----------------------------------\n",
      "    idli        2       30.0\n",
      "   samosa       3       20.0\n",
      "    poha        5       15.0\n",
      "-----------------------------------\n",
      "  Total:              ₹195.0\n",
      "===================================\n"
     ]
    }
   ],
   "source": [
    "from datetime import datetime\n",
    "\n",
    "print(f\"{'='*35}\")\n",
    "print(f\"{'Hotel Nature':^35}\")\n",
    "print(f\"{'='*35}\")\n",
    "a=datetime.now()\n",
    "print('Time:',a.strftime('%Y-%m-%d %H:%M:%S %a'))\n",
    "print(f\"{'-'*35}\")\n",
    "print(f\"{'Menu':^12}{'Quantity':>8}{'Price':^13}\")\n",
    "print(f\"{'-'*35}\")\n",
    "\n",
    "\n",
    "all_dish = []\n",
    "all_quantity = []\n",
    "fixed_price = []\n",
    "all_price = []\n",
    "\n",
    "quan = int(input('How many items:'))\n",
    "for i in range(0, quan):\n",
    "    dish = input('Enter dish name')\n",
    "    all_dish.append(dish)\n",
    "    quantity = input('Enter quantity')\n",
    "    all_quantity.append(quantity)\n",
    "    price = input('Enter price')\n",
    "    fixed_price.append(float(price))\n",
    "    total = float(price) * int(quantity)\n",
    "    all_price.append(float(total))\n",
    "\n",
    "bill=0\n",
    "\n",
    "\n",
    "for i in range(len(all_dish)):\n",
    "    print(f'{all_dish[i]:^12} {all_quantity[i]:^8} {fixed_price[i]:>6}')\n",
    "    bill += all_price[i]\n",
    "\n",
    "print(f\"{'-'*35}\")\n",
    "print(f'  Total: {' ':>12} ₹{bill}')\n",
    "print(f\"{'='*35}\")\n",
    "\n"
   ]
  },
  {
   "cell_type": "code",
   "execution_count": null,
   "metadata": {},
   "outputs": [],
   "source": [
    "# # Function to generate the bill\n",
    "# def generate_bill(hotel_name, items):\n",
    "#     # File name for the bill\n",
    "#     filename = \"bill.txt\"\n",
    "\n",
    "#     # Calculate the total\n",
    "#     total = sum(item['quantity'] * item['price'] for item in items)\n",
    "\n",
    "#     # Generate the formatted bill\n",
    "#     with open(filename, 'w') as file:\n",
    "#         file.write(f\"{'='*40}\\n\")\n",
    "#         file.write(f\"{'Welcome':^40}\\n\")\n",
    "#         file.write(f\"{hotel_name:^40}\\n\")\n",
    "#         file.write(f\"{'='*40}\\n\")\n",
    "#         file.write(f\"{'Sr':<5}{'Menu':<15}{'Quant':<10}{'Price':<10}\\n\")\n",
    "#         file.write(f\"{'-'*40}\\n\")\n",
    "\n",
    "#         for i, item in enumerate(items, start=1):\n",
    "#             file.write(f\"{i:<5}{item['menu']:<15}{item['quantity']:<10}{item['price']:<10}\\n\")\n",
    "\n",
    "#         file.write(f\"{'-'*40}\\n\")\n",
    "#         file.write(f\"{'Total':<30}{total:<10}\\n\")\n",
    "#         file.write(f\"{'='*40}\\n\")\n",
    "\n",
    "#     print(f\"Bill generated successfully as '{filename}'.\")\n",
    "\n",
    "# # Input details\n",
    "# hotel_name = input(\"Enter the hotel name: \")\n",
    "# items = []\n",
    "\n",
    "# while True:\n",
    "#     menu = input(\"Enter the menu item (or type 'done' to finish): \")\n",
    "#     if menu.lower() == \"done\":\n",
    "#         break\n",
    "#     quantity = int(input(f\"Enter the quantity for {menu}: \"))\n",
    "#     price = float(input(f\"Enter the price for {menu}: \"))\n",
    "#     items.append({'menu': menu, 'quantity': quantity, 'price': price})\n",
    "\n",
    "# # Generate the bill\n",
    "# generate_bill(hotel_name, items)\n"
   ]
  }
 ],
 "metadata": {
  "kernelspec": {
   "display_name": "base",
   "language": "python",
   "name": "python3"
  },
  "language_info": {
   "codemirror_mode": {
    "name": "ipython",
    "version": 3
   },
   "file_extension": ".py",
   "mimetype": "text/x-python",
   "name": "python",
   "nbconvert_exporter": "python",
   "pygments_lexer": "ipython3",
   "version": "3.12.7"
  }
 },
 "nbformat": 4,
 "nbformat_minor": 2
}
