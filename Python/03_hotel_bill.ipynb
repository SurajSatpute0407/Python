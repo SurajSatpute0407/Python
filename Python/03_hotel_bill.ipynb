{
 "cells": [
  {
   "cell_type": "code",
   "execution_count": 1,
   "metadata": {},
   "outputs": [
    {
     "name": "stdout",
     "output_type": "stream",
     "text": [
      "===================================\n",
      "           Hotel Nature            \n",
      "===================================\n",
      "Time: 2025-01-21 19:22:12 Tue\n",
      "-----------------------------------\n",
      "    Menu    Quantity    Price    \n",
      "-----------------------------------\n",
      "    poha        5       20.0\n",
      "    idli        6       30.0\n",
      "   samosa       5       10.0\n",
      "-----------------------------------\n",
      "  Total:              ₹330.0\n",
      "===================================\n"
     ]
    }
   ],
   "source": [
    "from datetime import datetime\n",
    "\n",
    "print(f\"{'='*35}\")\n",
    "print(f\"{'Hotel Nature':^35}\")\n",
    "print(f\"{'='*35}\")\n",
    "a = datetime.now()\n",
    "print(\"Time:\", a.strftime(\"%Y-%m-%d %H:%M:%S %a\"))\n",
    "print(f\"{'-'*35}\")\n",
    "print(f\"{'Menu':^12}{'Quantity':>8}{'Price':^13}\")\n",
    "print(f\"{'-'*35}\")\n",
    "\n",
    "\n",
    "all_dish = []\n",
    "all_quantity = []\n",
    "fixed_price = []\n",
    "all_price = []\n",
    "\n",
    "quan = int(input(\"How many items:\"))\n",
    "for i in range(0, quan):\n",
    "    dish = input(\"Enter dish name\")\n",
    "    all_dish.append(dish)\n",
    "    quantity = input(\"Enter quantity\")\n",
    "    all_quantity.append(quantity)\n",
    "    price = input(\"Enter price\")\n",
    "    fixed_price.append(float(price))\n",
    "    total = float(price) * int(quantity)\n",
    "    all_price.append(float(total))\n",
    "\n",
    "bill = 0\n",
    "\n",
    "\n",
    "for i in range(len(all_dish)):\n",
    "    print(f\"{all_dish[i]:^12} {all_quantity[i]:^8} {fixed_price[i]:>6}\")\n",
    "    bill += all_price[i]\n",
    "\n",
    "print(f\"{'-'*35}\")\n",
    "print(f\"  Total: {' ':>12} ₹{bill}\")\n",
    "print(f\"{'='*35}\")"
   ]
  }
 ],
 "metadata": {
  "kernelspec": {
   "display_name": "base",
   "language": "python",
   "name": "python3"
  },
  "language_info": {
   "codemirror_mode": {
    "name": "ipython",
    "version": 3
   },
   "file_extension": ".py",
   "mimetype": "text/x-python",
   "name": "python",
   "nbconvert_exporter": "python",
   "pygments_lexer": "ipython3",
   "version": "3.12.7"
  }
 },
 "nbformat": 4,
 "nbformat_minor": 2
}
