{
 "cells": [
  {
   "cell_type": "code",
   "execution_count": 1,
   "metadata": {},
   "outputs": [
    {
     "name": "stdout",
     "output_type": "stream",
     "text": [
      "Date of birth cannot be in the future. \n",
      "Date format should be valid (YYYY-MM-DD).\n",
      "Date of birth cannot be in the future. \n",
      "DOB: 2001-Jul-04\n",
      "Age: 23\n"
     ]
    }
   ],
   "source": [
    "from datetime import datetime, date, time\n",
    "\n",
    "\n",
    "def validate(takeinput):\n",
    "    error = \"\"\n",
    "    while True:\n",
    "        value = input(error + takeinput)\n",
    "        try:\n",
    "            current_date = datetime.now()\n",
    "            date = datetime.strptime(value, \"%Y-%m-%d\")\n",
    "            if date >= current_date:\n",
    "                print(\"Date of birth cannot be in the future. \")\n",
    "                error = \"Please enter a valid date in the format YYYY-MM-DD. \"\n",
    "            else:\n",
    "                dobdate = date.strftime(\"%Y-%b-%d\")\n",
    "                return dobdate\n",
    "        except ValueError:\n",
    "            print(\"Date format should be valid (YYYY-MM-DD).\")\n",
    "        except:\n",
    "            print(\"Please enter a valid date in the format YYYY-MM-DD.\")\n",
    "\n",
    "\n",
    "dob = validate(\"Enter your DOB (YYYY-MM-DD):\")\n",
    "print(\"DOB:\", dob)\n",
    "\n",
    "\n",
    "dob1 = datetime.strptime(dob, \"%Y-%b-%d\")\n",
    "age = dob1\n",
    "age = datetime.now().year - dob1.year\n",
    "if datetime.now().month < dob1.month or (\n",
    "    datetime.now().month == dob1.month and datetime.now().day < dob1.day\n",
    "):\n",
    "    age -= 1\n",
    "print(f\"Age: {age}\")\n"
   ]
  }
 ],
 "metadata": {
  "kernelspec": {
   "display_name": "base",
   "language": "python",
   "name": "python3"
  },
  "language_info": {
   "codemirror_mode": {
    "name": "ipython",
    "version": 3
   },
   "file_extension": ".py",
   "mimetype": "text/x-python",
   "name": "python",
   "nbconvert_exporter": "python",
   "pygments_lexer": "ipython3",
   "version": "3.12.7"
  }
 },
 "nbformat": 4,
 "nbformat_minor": 2
}
