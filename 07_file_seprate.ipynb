{
 "cells": [
  {
   "cell_type": "code",
   "execution_count": 3,
   "metadata": {},
   "outputs": [
    {
     "name": "stdout",
     "output_type": "stream",
     "text": [
      "Copying Files...\n",
      "Files Copied Successfully!\n"
     ]
    }
   ],
   "source": [
    "import os\n",
    "import sys\n",
    "import shutil\n",
    " \n",
    " \n",
    "try:\n",
    "    print('Copying Files...')\n",
    "    for i in os.listdir(r'C:\\Users\\satpu\\OneDrive\\Pulpit\\Test'):\n",
    "        filename = r'C:\\Users\\satpu\\OneDrive\\Pulpit\\Test\\\\'+i\n",
    "        file_size = os.stat(filename).st_size/1000\n",
    "        # print(f'{i:<25} {file_size}')\n",
    " \n",
    "        if 0.00 <= file_size <= 1.000:\n",
    "            shutil.copy(filename, r'C:\\Users\\satpu\\OneDrive\\Pulpit\\File_handling\\Less_Than_1KB')\n",
    "        elif 1.000 < file_size < 5.000:\n",
    "            shutil.copy(filename, r'C:\\Users\\satpu\\OneDrive\\Pulpit\\File_handling\\Less_Than_5KB')\n",
    "        elif file_size >= 5.000:\n",
    "            shutil.copy(filename, r'C:\\Users\\satpu\\OneDrive\\Pulpit\\File_handling\\More_Than_5KB')\n",
    "    \n",
    "    print('Files Copied Successfully!')\n",
    " \n",
    "except Exception as e:\n",
    "    print(f'Something Went Wrong! Error: {e}') \n",
    " "
   ]
  },
  {
   "cell_type": "code",
   "execution_count": null,
   "metadata": {},
   "outputs": [],
   "source": []
  }
 ],
 "metadata": {
  "kernelspec": {
   "display_name": "base",
   "language": "python",
   "name": "python3"
  },
  "language_info": {
   "codemirror_mode": {
    "name": "ipython",
    "version": 3
   },
   "file_extension": ".py",
   "mimetype": "text/x-python",
   "name": "python",
   "nbconvert_exporter": "python",
   "pygments_lexer": "ipython3",
   "version": "3.12.7"
  }
 },
 "nbformat": 4,
 "nbformat_minor": 2
}
