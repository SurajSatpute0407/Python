{
 "cells": [
  {
   "cell_type": "code",
   "execution_count": 1,
   "metadata": {},
   "outputs": [
    {
     "name": "stdout",
     "output_type": "stream",
     "text": [
      "['gvdrfg', 2326, 'drgd3', 23.3266, '213r', 65, '', 3.0, 33, 2.0, 3]\n",
      "int list [2326, 65, 33, 3]\n",
      "str list ['gvdrfg', 'drgd3', '213r', '']\n",
      "other list [23.3266, 3.0, 2.0]\n"
     ]
    }
   ],
   "source": [
    "list1 = []\n",
    "while True:\n",
    "    value = input('Enter value')\n",
    "    if value.lower() == 'done':\n",
    "        break\n",
    "    try:\n",
    "        if '.' in value:\n",
    "            list1.append(float(value))\n",
    "        else:\n",
    "            list1.append(int(value))\n",
    "    except:\n",
    "        list1.append(value)\n",
    "\n",
    "print(list1)\n",
    "\n",
    "num_list = []\n",
    "str_list = []\n",
    "other = []\n",
    "\n",
    "for i in list1:\n",
    "    if type(i)==str:\n",
    "        str_list.append(i)\n",
    "    elif type(i)==int:\n",
    "        num_list.append(i)\n",
    "    else:\n",
    "        other.append(i)\n",
    "\n",
    "print('int list', num_list)\n",
    "print('str list', str_list)\n",
    "print('other list', other)"
   ]
  }
 ],
 "metadata": {
  "kernelspec": {
   "display_name": "base",
   "language": "python",
   "name": "python3"
  },
  "language_info": {
   "codemirror_mode": {
    "name": "ipython",
    "version": 3
   },
   "file_extension": ".py",
   "mimetype": "text/x-python",
   "name": "python",
   "nbconvert_exporter": "python",
   "pygments_lexer": "ipython3",
   "version": "3.12.7"
  }
 },
 "nbformat": 4,
 "nbformat_minor": 2
}
